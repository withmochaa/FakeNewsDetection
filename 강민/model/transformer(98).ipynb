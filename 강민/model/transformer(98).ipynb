{
 "cells": [
  {
   "cell_type": "code",
   "execution_count": 1,
   "metadata": {},
   "outputs": [],
   "source": [
    "import pandas as pd\n",
    "import tensorflow as tf\n",
    "from transformers import RobertaTokenizer, TFRobertaModel\n",
    "from sklearn.model_selection import train_test_split\n",
    "from sklearn.metrics import classification_report"
   ]
  },
  {
   "cell_type": "code",
   "execution_count": 2,
   "metadata": {},
   "outputs": [
    {
     "data": {
      "text/html": [
       "<div>\n",
       "<style scoped>\n",
       "    .dataframe tbody tr th:only-of-type {\n",
       "        vertical-align: middle;\n",
       "    }\n",
       "\n",
       "    .dataframe tbody tr th {\n",
       "        vertical-align: top;\n",
       "    }\n",
       "\n",
       "    .dataframe thead th {\n",
       "        text-align: right;\n",
       "    }\n",
       "</style>\n",
       "<table border=\"1\" class=\"dataframe\">\n",
       "  <thead>\n",
       "    <tr style=\"text-align: right;\">\n",
       "      <th></th>\n",
       "      <th>title</th>\n",
       "      <th>text</th>\n",
       "      <th>label</th>\n",
       "    </tr>\n",
       "  </thead>\n",
       "  <tbody>\n",
       "    <tr>\n",
       "      <th>0</th>\n",
       "      <td>LAW ENFORCEMENT ON HIGH ALERT Following Threat...</td>\n",
       "      <td>No comment is expected from Barack Obama Membe...</td>\n",
       "      <td>1</td>\n",
       "    </tr>\n",
       "    <tr>\n",
       "      <th>1</th>\n",
       "      <td>NaN</td>\n",
       "      <td>Did they post their votes for Hillary already?</td>\n",
       "      <td>1</td>\n",
       "    </tr>\n",
       "    <tr>\n",
       "      <th>2</th>\n",
       "      <td>UNBELIEVABLE! OBAMA’S ATTORNEY GENERAL SAYS MO...</td>\n",
       "      <td>Now, most of the demonstrators gathered last ...</td>\n",
       "      <td>1</td>\n",
       "    </tr>\n",
       "    <tr>\n",
       "      <th>3</th>\n",
       "      <td>Bobby Jindal, raised Hindu, uses story of Chri...</td>\n",
       "      <td>A dozen politically active pastors came here f...</td>\n",
       "      <td>0</td>\n",
       "    </tr>\n",
       "    <tr>\n",
       "      <th>4</th>\n",
       "      <td>SATAN 2: Russia unvelis an image of its terrif...</td>\n",
       "      <td>The RS-28 Sarmat missile, dubbed Satan 2, will...</td>\n",
       "      <td>1</td>\n",
       "    </tr>\n",
       "    <tr>\n",
       "      <th>...</th>\n",
       "      <td>...</td>\n",
       "      <td>...</td>\n",
       "      <td>...</td>\n",
       "    </tr>\n",
       "    <tr>\n",
       "      <th>72129</th>\n",
       "      <td>Russians steal research on Trump in hack of U....</td>\n",
       "      <td>WASHINGTON (Reuters) - Hackers believed to be ...</td>\n",
       "      <td>0</td>\n",
       "    </tr>\n",
       "    <tr>\n",
       "      <th>72130</th>\n",
       "      <td>WATCH: Giuliani Demands That Democrats Apolog...</td>\n",
       "      <td>You know, because in fantasyland Republicans n...</td>\n",
       "      <td>1</td>\n",
       "    </tr>\n",
       "    <tr>\n",
       "      <th>72131</th>\n",
       "      <td>Migrants Refuse To Leave Train At Refugee Camp...</td>\n",
       "      <td>Migrants Refuse To Leave Train At Refugee Camp...</td>\n",
       "      <td>0</td>\n",
       "    </tr>\n",
       "    <tr>\n",
       "      <th>72132</th>\n",
       "      <td>Trump tussle gives unpopular Mexican leader mu...</td>\n",
       "      <td>MEXICO CITY (Reuters) - Donald Trump’s combati...</td>\n",
       "      <td>0</td>\n",
       "    </tr>\n",
       "    <tr>\n",
       "      <th>72133</th>\n",
       "      <td>Goldman Sachs Endorses Hillary Clinton For Pre...</td>\n",
       "      <td>Goldman Sachs Endorses Hillary Clinton For Pre...</td>\n",
       "      <td>1</td>\n",
       "    </tr>\n",
       "  </tbody>\n",
       "</table>\n",
       "<p>72134 rows × 3 columns</p>\n",
       "</div>"
      ],
      "text/plain": [
       "                                                   title  \\\n",
       "0      LAW ENFORCEMENT ON HIGH ALERT Following Threat...   \n",
       "1                                                    NaN   \n",
       "2      UNBELIEVABLE! OBAMA’S ATTORNEY GENERAL SAYS MO...   \n",
       "3      Bobby Jindal, raised Hindu, uses story of Chri...   \n",
       "4      SATAN 2: Russia unvelis an image of its terrif...   \n",
       "...                                                  ...   \n",
       "72129  Russians steal research on Trump in hack of U....   \n",
       "72130   WATCH: Giuliani Demands That Democrats Apolog...   \n",
       "72131  Migrants Refuse To Leave Train At Refugee Camp...   \n",
       "72132  Trump tussle gives unpopular Mexican leader mu...   \n",
       "72133  Goldman Sachs Endorses Hillary Clinton For Pre...   \n",
       "\n",
       "                                                    text  label  \n",
       "0      No comment is expected from Barack Obama Membe...      1  \n",
       "1         Did they post their votes for Hillary already?      1  \n",
       "2       Now, most of the demonstrators gathered last ...      1  \n",
       "3      A dozen politically active pastors came here f...      0  \n",
       "4      The RS-28 Sarmat missile, dubbed Satan 2, will...      1  \n",
       "...                                                  ...    ...  \n",
       "72129  WASHINGTON (Reuters) - Hackers believed to be ...      0  \n",
       "72130  You know, because in fantasyland Republicans n...      1  \n",
       "72131  Migrants Refuse To Leave Train At Refugee Camp...      0  \n",
       "72132  MEXICO CITY (Reuters) - Donald Trump’s combati...      0  \n",
       "72133  Goldman Sachs Endorses Hillary Clinton For Pre...      1  \n",
       "\n",
       "[72134 rows x 3 columns]"
      ]
     },
     "execution_count": 2,
     "metadata": {},
     "output_type": "execute_result"
    }
   ],
   "source": [
    "data = pd.read_csv(\"/Users/withmocha/Desktop/DATA/BOAZ/미니 프로젝트 1/data/main data/WELFake_Dataset.csv\")\n",
    "data.drop(data.columns[0], axis=1, inplace=True)\n",
    "data['title'] = data['title'] + data['text']\n",
    "data"
   ]
  },
  {
   "cell_type": "code",
   "execution_count": 3,
   "metadata": {},
   "outputs": [],
   "source": [
    "X = pd.DataFrame(data=data['title'])\n",
    "Y = pd.DataFrame(data=data['label'])"
   ]
  },
  {
   "cell_type": "code",
   "execution_count": 4,
   "metadata": {},
   "outputs": [],
   "source": [
    "texts = X['title'].tolist()\n",
    "labels = Y['label'].tolist()\n",
    "texts = [str(text) if pd.notna(text) else \"\" for text in texts]"
   ]
  },
  {
   "cell_type": "code",
   "execution_count": 5,
   "metadata": {},
   "outputs": [],
   "source": [
    "train_texts, val_texts, train_labels, val_labels = train_test_split(texts, labels, test_size=0.2, shuffle=True)"
   ]
  },
  {
   "cell_type": "code",
   "execution_count": 6,
   "metadata": {},
   "outputs": [],
   "source": [
    "tokenizer = RobertaTokenizer.from_pretrained('roberta-base')"
   ]
  },
  {
   "cell_type": "code",
   "execution_count": 7,
   "metadata": {},
   "outputs": [],
   "source": [
    "def encode_data(texts, tokenizer, max_length=128):\n",
    "    input_ids = []\n",
    "    attention_masks = []\n",
    "\n",
    "    for text in texts:\n",
    "        encoded = tokenizer.encode_plus(\n",
    "            text,\n",
    "            max_length=max_length,\n",
    "            truncation=True,\n",
    "            padding='max_length',\n",
    "            add_special_tokens=True,\n",
    "            return_attention_mask=True,\n",
    "            return_tensors='tf'\n",
    "        )\n",
    "        input_ids.append(encoded['input_ids'])\n",
    "        attention_masks.append(encoded['attention_mask'])\n",
    "\n",
    "    return tf.concat(input_ids, axis=0), tf.concat(attention_masks, axis=0)"
   ]
  },
  {
   "cell_type": "code",
   "execution_count": 8,
   "metadata": {},
   "outputs": [],
   "source": [
    "train_input_ids, train_attention_masks = encode_data(train_texts, tokenizer)\n",
    "val_input_ids, val_attention_masks = encode_data(val_texts, tokenizer)"
   ]
  },
  {
   "cell_type": "code",
   "execution_count": 9,
   "metadata": {},
   "outputs": [
    {
     "name": "stderr",
     "output_type": "stream",
     "text": [
      "Some weights of the PyTorch model were not used when initializing the TF 2.0 model TFRobertaModel: ['lm_head.layer_norm.weight', 'lm_head.layer_norm.bias', 'roberta.embeddings.position_ids', 'lm_head.dense.weight', 'lm_head.bias', 'lm_head.dense.bias']\n",
      "- This IS expected if you are initializing TFRobertaModel from a PyTorch model trained on another task or with another architecture (e.g. initializing a TFBertForSequenceClassification model from a BertForPreTraining model).\n",
      "- This IS NOT expected if you are initializing TFRobertaModel from a PyTorch model that you expect to be exactly identical (e.g. initializing a TFBertForSequenceClassification model from a BertForSequenceClassification model).\n",
      "Some weights or buffers of the TF 2.0 model TFRobertaModel were not initialized from the PyTorch model and are newly initialized: ['roberta.pooler.dense.weight', 'roberta.pooler.dense.bias']\n",
      "You should probably TRAIN this model on a down-stream task to be able to use it for predictions and inference.\n"
     ]
    }
   ],
   "source": [
    "roberta_model = TFRobertaModel.from_pretrained('roberta-base')"
   ]
  },
  {
   "cell_type": "code",
   "execution_count": 10,
   "metadata": {},
   "outputs": [],
   "source": [
    "def create_transformer_input(input_ids, attention_masks, batch_size=32):\n",
    "    def gen():\n",
    "        for i in range(0, len(input_ids), batch_size):\n",
    "            yield input_ids[i:i + batch_size], attention_masks[i:i + batch_size]\n",
    "\n",
    "    dataset = tf.data.Dataset.from_generator(\n",
    "        gen,\n",
    "        output_signature=(tf.TensorSpec(shape=(None, input_ids.shape[1]), dtype=tf.int32),\n",
    "                          tf.TensorSpec(shape=(None, attention_masks.shape[1]), dtype=tf.int32))\n",
    "    )\n",
    "\n",
    "    features = []\n",
    "    for batch_input_ids, batch_attention_masks in dataset:\n",
    "        outputs = roberta_model(batch_input_ids, attention_mask=batch_attention_masks)\n",
    "        features.append(outputs.last_hidden_state[:, 0, :])\n",
    "\n",
    "    return tf.concat(features, axis=0)"
   ]
  },
  {
   "cell_type": "code",
   "execution_count": 11,
   "metadata": {},
   "outputs": [
    {
     "name": "stderr",
     "output_type": "stream",
     "text": [
      "2024-08-22 22:10:46.812701: I tensorflow/core/framework/local_rendezvous.cc:404] Local rendezvous is aborting with status: OUT_OF_RANGE: End of sequence\n",
      "2024-08-22 22:24:27.658015: I tensorflow/core/framework/local_rendezvous.cc:404] Local rendezvous is aborting with status: OUT_OF_RANGE: End of sequence\n"
     ]
    }
   ],
   "source": [
    "train_features = create_transformer_input(train_input_ids, train_attention_masks)\n",
    "val_features = create_transformer_input(val_input_ids, val_attention_masks)"
   ]
  },
  {
   "cell_type": "code",
   "execution_count": 29,
   "metadata": {},
   "outputs": [
    {
     "name": "stderr",
     "output_type": "stream",
     "text": [
      "WARNING:absl:At this time, the v2.11+ optimizer `tf.keras.optimizers.Adam` runs slowly on M1/M2 Macs, please use the legacy TF-Keras optimizer instead, located at `tf.keras.optimizers.legacy.Adam`.\n"
     ]
    },
    {
     "name": "stdout",
     "output_type": "stream",
     "text": [
      "Model: \"model_2\"\n",
      "_________________________________________________________________\n",
      " Layer (type)                Output Shape              Param #   \n",
      "=================================================================\n",
      " input_3 (InputLayer)        [(None, 768)]             0         \n",
      "                                                                 \n",
      " dense_4 (Dense)             (None, 256)               196864    \n",
      "                                                                 \n",
      " dropout_39 (Dropout)        (None, 256)               0         \n",
      "                                                                 \n",
      " dense_5 (Dense)             (None, 1)                 257       \n",
      "                                                                 \n",
      "=================================================================\n",
      "Total params: 197121 (770.00 KB)\n",
      "Trainable params: 197121 (770.00 KB)\n",
      "Non-trainable params: 0 (0.00 Byte)\n",
      "_________________________________________________________________\n"
     ]
    }
   ],
   "source": [
    "input_layer = tf.keras.layers.Input(shape=(train_features.shape[1],), dtype=tf.float32)\n",
    "dense_layer = tf.keras.layers.Dense(256, activation='elu')(input_layer)\n",
    "dropout_layer = tf.keras.layers.Dropout(0.5)(dense_layer)\n",
    "output_layer = tf.keras.layers.Dense(1, activation='sigmoid')(dropout_layer)\n",
    "\n",
    "model = tf.keras.models.Model(inputs=input_layer, outputs=output_layer)\n",
    "model.compile(optimizer=tf.keras.optimizers.Adam(learning_rate=2e-5),\n",
    "              loss='binary_crossentropy',\n",
    "              metrics=['accuracy'])\n",
    "\n",
    "model.summary()"
   ]
  },
  {
   "cell_type": "code",
   "execution_count": 30,
   "metadata": {},
   "outputs": [
    {
     "name": "stdout",
     "output_type": "stream",
     "text": [
      "Epoch 1/100\n",
      "1804/1804 [==============================] - 2s 1ms/step - loss: 0.5458 - accuracy: 0.7391 - val_loss: 0.3794 - val_accuracy: 0.8971\n",
      "Epoch 2/100\n",
      "1804/1804 [==============================] - 2s 1ms/step - loss: 0.3081 - accuracy: 0.9060 - val_loss: 0.2357 - val_accuracy: 0.9382\n",
      "Epoch 3/100\n",
      "1804/1804 [==============================] - 2s 1ms/step - loss: 0.2007 - accuracy: 0.9413 - val_loss: 0.1678 - val_accuracy: 0.9521\n",
      "Epoch 4/100\n",
      "1804/1804 [==============================] - 2s 1ms/step - loss: 0.1488 - accuracy: 0.9557 - val_loss: 0.1312 - val_accuracy: 0.9601\n",
      "Epoch 5/100\n",
      "1804/1804 [==============================] - 2s 1ms/step - loss: 0.1200 - accuracy: 0.9626 - val_loss: 0.1107 - val_accuracy: 0.9633\n",
      "Epoch 6/100\n",
      "1804/1804 [==============================] - 2s 1ms/step - loss: 0.1028 - accuracy: 0.9671 - val_loss: 0.0960 - val_accuracy: 0.9687\n",
      "Epoch 7/100\n",
      "1804/1804 [==============================] - 2s 1ms/step - loss: 0.0913 - accuracy: 0.9705 - val_loss: 0.0864 - val_accuracy: 0.9720\n",
      "Epoch 8/100\n",
      "1804/1804 [==============================] - 2s 1ms/step - loss: 0.0829 - accuracy: 0.9726 - val_loss: 0.0805 - val_accuracy: 0.9737\n",
      "Epoch 9/100\n",
      "1804/1804 [==============================] - 2s 1ms/step - loss: 0.0769 - accuracy: 0.9742 - val_loss: 0.0743 - val_accuracy: 0.9759\n",
      "Epoch 10/100\n",
      "1804/1804 [==============================] - 2s 1ms/step - loss: 0.0723 - accuracy: 0.9760 - val_loss: 0.0702 - val_accuracy: 0.9768\n",
      "Epoch 11/100\n",
      "1804/1804 [==============================] - 2s 1ms/step - loss: 0.0685 - accuracy: 0.9771 - val_loss: 0.0670 - val_accuracy: 0.9783\n",
      "Epoch 12/100\n",
      "1804/1804 [==============================] - 3s 1ms/step - loss: 0.0654 - accuracy: 0.9779 - val_loss: 0.0643 - val_accuracy: 0.9782\n",
      "Epoch 13/100\n",
      "1804/1804 [==============================] - 2s 1ms/step - loss: 0.0626 - accuracy: 0.9786 - val_loss: 0.0619 - val_accuracy: 0.9794\n",
      "Epoch 14/100\n",
      "1804/1804 [==============================] - 2s 1ms/step - loss: 0.0605 - accuracy: 0.9797 - val_loss: 0.0598 - val_accuracy: 0.9806\n",
      "Epoch 15/100\n",
      "1804/1804 [==============================] - 2s 1ms/step - loss: 0.0586 - accuracy: 0.9803 - val_loss: 0.0578 - val_accuracy: 0.9812\n",
      "Epoch 16/100\n",
      "1804/1804 [==============================] - 2s 1ms/step - loss: 0.0568 - accuracy: 0.9804 - val_loss: 0.0563 - val_accuracy: 0.9812\n",
      "Epoch 17/100\n",
      "1804/1804 [==============================] - 2s 1ms/step - loss: 0.0554 - accuracy: 0.9810 - val_loss: 0.0553 - val_accuracy: 0.9819\n",
      "Epoch 18/100\n",
      "1804/1804 [==============================] - 2s 1ms/step - loss: 0.0539 - accuracy: 0.9817 - val_loss: 0.0537 - val_accuracy: 0.9820\n",
      "Epoch 19/100\n",
      "1804/1804 [==============================] - 2s 1ms/step - loss: 0.0527 - accuracy: 0.9819 - val_loss: 0.0529 - val_accuracy: 0.9827\n",
      "Epoch 20/100\n",
      "1804/1804 [==============================] - 2s 1ms/step - loss: 0.0516 - accuracy: 0.9823 - val_loss: 0.0516 - val_accuracy: 0.9829\n",
      "Epoch 21/100\n",
      "1804/1804 [==============================] - 2s 1ms/step - loss: 0.0506 - accuracy: 0.9829 - val_loss: 0.0515 - val_accuracy: 0.9834\n",
      "Epoch 22/100\n",
      "1804/1804 [==============================] - 2s 1ms/step - loss: 0.0495 - accuracy: 0.9834 - val_loss: 0.0499 - val_accuracy: 0.9840\n",
      "Epoch 23/100\n",
      "1804/1804 [==============================] - 2s 1ms/step - loss: 0.0486 - accuracy: 0.9835 - val_loss: 0.0488 - val_accuracy: 0.9839\n",
      "Epoch 24/100\n",
      "1804/1804 [==============================] - 2s 1ms/step - loss: 0.0479 - accuracy: 0.9837 - val_loss: 0.0482 - val_accuracy: 0.9845\n",
      "Epoch 25/100\n",
      "1804/1804 [==============================] - 2s 1ms/step - loss: 0.0473 - accuracy: 0.9842 - val_loss: 0.0476 - val_accuracy: 0.9838\n",
      "Epoch 26/100\n",
      "1804/1804 [==============================] - 2s 1ms/step - loss: 0.0464 - accuracy: 0.9845 - val_loss: 0.0470 - val_accuracy: 0.9847\n",
      "Epoch 27/100\n",
      "1804/1804 [==============================] - 2s 1ms/step - loss: 0.0457 - accuracy: 0.9846 - val_loss: 0.0462 - val_accuracy: 0.9847\n",
      "Epoch 28/100\n",
      "1804/1804 [==============================] - 2s 1ms/step - loss: 0.0450 - accuracy: 0.9851 - val_loss: 0.0461 - val_accuracy: 0.9850\n",
      "Epoch 29/100\n",
      "1804/1804 [==============================] - 2s 1ms/step - loss: 0.0447 - accuracy: 0.9849 - val_loss: 0.0453 - val_accuracy: 0.9850\n",
      "Epoch 30/100\n",
      "1804/1804 [==============================] - 2s 1ms/step - loss: 0.0441 - accuracy: 0.9854 - val_loss: 0.0448 - val_accuracy: 0.9852\n",
      "Epoch 31/100\n",
      "1804/1804 [==============================] - 2s 1ms/step - loss: 0.0435 - accuracy: 0.9855 - val_loss: 0.0443 - val_accuracy: 0.9852\n",
      "Epoch 32/100\n",
      "1804/1804 [==============================] - 2s 1ms/step - loss: 0.0431 - accuracy: 0.9855 - val_loss: 0.0439 - val_accuracy: 0.9854\n",
      "Epoch 33/100\n",
      "1804/1804 [==============================] - 2s 1ms/step - loss: 0.0427 - accuracy: 0.9860 - val_loss: 0.0436 - val_accuracy: 0.9854\n",
      "Epoch 34/100\n",
      "1804/1804 [==============================] - 2s 1ms/step - loss: 0.0424 - accuracy: 0.9860 - val_loss: 0.0436 - val_accuracy: 0.9859\n",
      "Epoch 35/100\n",
      "1804/1804 [==============================] - 2s 1ms/step - loss: 0.0419 - accuracy: 0.9863 - val_loss: 0.0431 - val_accuracy: 0.9857\n",
      "Epoch 36/100\n",
      "1804/1804 [==============================] - 2s 1ms/step - loss: 0.0414 - accuracy: 0.9864 - val_loss: 0.0426 - val_accuracy: 0.9854\n",
      "Epoch 37/100\n",
      "1804/1804 [==============================] - 2s 1ms/step - loss: 0.0413 - accuracy: 0.9862 - val_loss: 0.0423 - val_accuracy: 0.9859\n",
      "Epoch 38/100\n",
      "1804/1804 [==============================] - 2s 1ms/step - loss: 0.0406 - accuracy: 0.9864 - val_loss: 0.0422 - val_accuracy: 0.9861\n",
      "Epoch 39/100\n",
      "1804/1804 [==============================] - 2s 1ms/step - loss: 0.0406 - accuracy: 0.9865 - val_loss: 0.0415 - val_accuracy: 0.9860\n",
      "Epoch 40/100\n",
      "1804/1804 [==============================] - 2s 1ms/step - loss: 0.0403 - accuracy: 0.9865 - val_loss: 0.0419 - val_accuracy: 0.9863\n",
      "Epoch 41/100\n",
      "1804/1804 [==============================] - 2s 1ms/step - loss: 0.0397 - accuracy: 0.9868 - val_loss: 0.0410 - val_accuracy: 0.9861\n",
      "Epoch 42/100\n",
      "1804/1804 [==============================] - 2s 1ms/step - loss: 0.0395 - accuracy: 0.9871 - val_loss: 0.0407 - val_accuracy: 0.9861\n",
      "Epoch 43/100\n",
      "1804/1804 [==============================] - 2s 1ms/step - loss: 0.0390 - accuracy: 0.9872 - val_loss: 0.0408 - val_accuracy: 0.9862\n",
      "Epoch 44/100\n",
      "1804/1804 [==============================] - 2s 1ms/step - loss: 0.0390 - accuracy: 0.9871 - val_loss: 0.0403 - val_accuracy: 0.9868\n",
      "Epoch 45/100\n",
      "1804/1804 [==============================] - 2s 1ms/step - loss: 0.0386 - accuracy: 0.9873 - val_loss: 0.0403 - val_accuracy: 0.9866\n",
      "Epoch 46/100\n",
      "1804/1804 [==============================] - 2s 1ms/step - loss: 0.0384 - accuracy: 0.9876 - val_loss: 0.0403 - val_accuracy: 0.9863\n",
      "Epoch 47/100\n",
      "1804/1804 [==============================] - 2s 1ms/step - loss: 0.0379 - accuracy: 0.9875 - val_loss: 0.0398 - val_accuracy: 0.9867\n",
      "Epoch 48/100\n",
      "1804/1804 [==============================] - 2s 1ms/step - loss: 0.0379 - accuracy: 0.9877 - val_loss: 0.0409 - val_accuracy: 0.9865\n",
      "Epoch 49/100\n",
      "1804/1804 [==============================] - 2s 1ms/step - loss: 0.0375 - accuracy: 0.9877 - val_loss: 0.0392 - val_accuracy: 0.9870\n",
      "Epoch 50/100\n",
      "1804/1804 [==============================] - 2s 1ms/step - loss: 0.0374 - accuracy: 0.9876 - val_loss: 0.0397 - val_accuracy: 0.9867\n",
      "Epoch 51/100\n",
      "1804/1804 [==============================] - 2s 1ms/step - loss: 0.0371 - accuracy: 0.9878 - val_loss: 0.0396 - val_accuracy: 0.9868\n",
      "Epoch 52/100\n",
      "1804/1804 [==============================] - 2s 1ms/step - loss: 0.0368 - accuracy: 0.9879 - val_loss: 0.0389 - val_accuracy: 0.9868\n",
      "Epoch 53/100\n",
      "1804/1804 [==============================] - 2s 1ms/step - loss: 0.0367 - accuracy: 0.9879 - val_loss: 0.0386 - val_accuracy: 0.9872\n",
      "Epoch 54/100\n",
      "1804/1804 [==============================] - 2s 1ms/step - loss: 0.0366 - accuracy: 0.9879 - val_loss: 0.0385 - val_accuracy: 0.9870\n",
      "Epoch 55/100\n",
      "1804/1804 [==============================] - 2s 1ms/step - loss: 0.0364 - accuracy: 0.9882 - val_loss: 0.0382 - val_accuracy: 0.9873\n",
      "Epoch 56/100\n",
      "1804/1804 [==============================] - 2s 1ms/step - loss: 0.0362 - accuracy: 0.9883 - val_loss: 0.0380 - val_accuracy: 0.9873\n",
      "Epoch 57/100\n",
      "1804/1804 [==============================] - 2s 1ms/step - loss: 0.0359 - accuracy: 0.9882 - val_loss: 0.0379 - val_accuracy: 0.9872\n",
      "Epoch 58/100\n",
      "1804/1804 [==============================] - 2s 1ms/step - loss: 0.0356 - accuracy: 0.9882 - val_loss: 0.0377 - val_accuracy: 0.9874\n",
      "Epoch 59/100\n",
      "1804/1804 [==============================] - 2s 1ms/step - loss: 0.0356 - accuracy: 0.9881 - val_loss: 0.0377 - val_accuracy: 0.9874\n",
      "Epoch 60/100\n",
      "1804/1804 [==============================] - 2s 1ms/step - loss: 0.0355 - accuracy: 0.9881 - val_loss: 0.0376 - val_accuracy: 0.9875\n",
      "Epoch 61/100\n",
      "1804/1804 [==============================] - 2s 1ms/step - loss: 0.0348 - accuracy: 0.9888 - val_loss: 0.0373 - val_accuracy: 0.9874\n",
      "Epoch 62/100\n",
      "1804/1804 [==============================] - 2s 1ms/step - loss: 0.0351 - accuracy: 0.9885 - val_loss: 0.0376 - val_accuracy: 0.9870\n",
      "Epoch 63/100\n",
      "1804/1804 [==============================] - 2s 1ms/step - loss: 0.0349 - accuracy: 0.9886 - val_loss: 0.0371 - val_accuracy: 0.9875\n",
      "Epoch 64/100\n",
      "1804/1804 [==============================] - 2s 1ms/step - loss: 0.0346 - accuracy: 0.9884 - val_loss: 0.0370 - val_accuracy: 0.9875\n",
      "Epoch 65/100\n",
      "1804/1804 [==============================] - 2s 1ms/step - loss: 0.0347 - accuracy: 0.9885 - val_loss: 0.0369 - val_accuracy: 0.9875\n",
      "Epoch 66/100\n",
      "1804/1804 [==============================] - 2s 1ms/step - loss: 0.0346 - accuracy: 0.9886 - val_loss: 0.0370 - val_accuracy: 0.9875\n",
      "Epoch 67/100\n",
      "1804/1804 [==============================] - 2s 1ms/step - loss: 0.0341 - accuracy: 0.9887 - val_loss: 0.0374 - val_accuracy: 0.9873\n",
      "Epoch 68/100\n",
      "1804/1804 [==============================] - 2s 1ms/step - loss: 0.0340 - accuracy: 0.9886 - val_loss: 0.0365 - val_accuracy: 0.9875\n",
      "Epoch 69/100\n",
      "1804/1804 [==============================] - 2s 1ms/step - loss: 0.0341 - accuracy: 0.9887 - val_loss: 0.0367 - val_accuracy: 0.9878\n",
      "Epoch 70/100\n",
      "1804/1804 [==============================] - 2s 1ms/step - loss: 0.0337 - accuracy: 0.9891 - val_loss: 0.0364 - val_accuracy: 0.9877\n",
      "Epoch 71/100\n",
      "1804/1804 [==============================] - 2s 1ms/step - loss: 0.0339 - accuracy: 0.9888 - val_loss: 0.0366 - val_accuracy: 0.9878\n",
      "Epoch 72/100\n",
      "1804/1804 [==============================] - 2s 1ms/step - loss: 0.0337 - accuracy: 0.9887 - val_loss: 0.0361 - val_accuracy: 0.9876\n",
      "Epoch 73/100\n",
      "1804/1804 [==============================] - 2s 1ms/step - loss: 0.0333 - accuracy: 0.9890 - val_loss: 0.0363 - val_accuracy: 0.9878\n",
      "Epoch 74/100\n",
      "1804/1804 [==============================] - 2s 1ms/step - loss: 0.0330 - accuracy: 0.9892 - val_loss: 0.0362 - val_accuracy: 0.9877\n",
      "Epoch 75/100\n",
      "1804/1804 [==============================] - 2s 1ms/step - loss: 0.0330 - accuracy: 0.9888 - val_loss: 0.0360 - val_accuracy: 0.9878\n",
      "Epoch 76/100\n",
      "1804/1804 [==============================] - 2s 1ms/step - loss: 0.0329 - accuracy: 0.9893 - val_loss: 0.0362 - val_accuracy: 0.9879\n",
      "Epoch 77/100\n",
      "1804/1804 [==============================] - 2s 1ms/step - loss: 0.0328 - accuracy: 0.9891 - val_loss: 0.0357 - val_accuracy: 0.9881\n",
      "Epoch 78/100\n",
      "1804/1804 [==============================] - 2s 1ms/step - loss: 0.0328 - accuracy: 0.9894 - val_loss: 0.0359 - val_accuracy: 0.9877\n",
      "Epoch 79/100\n",
      "1804/1804 [==============================] - 2s 1ms/step - loss: 0.0325 - accuracy: 0.9891 - val_loss: 0.0358 - val_accuracy: 0.9878\n",
      "Epoch 80/100\n",
      "1804/1804 [==============================] - 2s 1ms/step - loss: 0.0326 - accuracy: 0.9891 - val_loss: 0.0355 - val_accuracy: 0.9881\n",
      "Epoch 81/100\n",
      "1804/1804 [==============================] - 2s 1ms/step - loss: 0.0323 - accuracy: 0.9892 - val_loss: 0.0353 - val_accuracy: 0.9883\n",
      "Epoch 82/100\n",
      "1804/1804 [==============================] - 2s 1ms/step - loss: 0.0323 - accuracy: 0.9893 - val_loss: 0.0361 - val_accuracy: 0.9883\n",
      "Epoch 83/100\n",
      "1804/1804 [==============================] - 2s 1ms/step - loss: 0.0319 - accuracy: 0.9898 - val_loss: 0.0351 - val_accuracy: 0.9883\n",
      "Epoch 84/100\n",
      "1804/1804 [==============================] - 2s 1ms/step - loss: 0.0322 - accuracy: 0.9890 - val_loss: 0.0351 - val_accuracy: 0.9882\n",
      "Epoch 85/100\n",
      "1804/1804 [==============================] - 2s 1ms/step - loss: 0.0319 - accuracy: 0.9894 - val_loss: 0.0350 - val_accuracy: 0.9883\n",
      "Epoch 86/100\n",
      "1804/1804 [==============================] - 2s 1ms/step - loss: 0.0318 - accuracy: 0.9896 - val_loss: 0.0349 - val_accuracy: 0.9884\n",
      "Epoch 87/100\n",
      "1804/1804 [==============================] - 2s 1ms/step - loss: 0.0316 - accuracy: 0.9893 - val_loss: 0.0348 - val_accuracy: 0.9885\n",
      "Epoch 88/100\n",
      "1804/1804 [==============================] - 2s 1ms/step - loss: 0.0315 - accuracy: 0.9895 - val_loss: 0.0347 - val_accuracy: 0.9884\n",
      "Epoch 89/100\n",
      "1804/1804 [==============================] - 2s 1ms/step - loss: 0.0316 - accuracy: 0.9894 - val_loss: 0.0346 - val_accuracy: 0.9886\n",
      "Epoch 90/100\n",
      "1804/1804 [==============================] - 2s 1ms/step - loss: 0.0314 - accuracy: 0.9895 - val_loss: 0.0345 - val_accuracy: 0.9886\n",
      "Epoch 91/100\n",
      "1804/1804 [==============================] - 2s 1ms/step - loss: 0.0314 - accuracy: 0.9893 - val_loss: 0.0344 - val_accuracy: 0.9886\n",
      "Epoch 92/100\n",
      "1804/1804 [==============================] - 2s 1ms/step - loss: 0.0311 - accuracy: 0.9898 - val_loss: 0.0344 - val_accuracy: 0.9887\n",
      "Epoch 93/100\n",
      "1804/1804 [==============================] - 2s 1ms/step - loss: 0.0311 - accuracy: 0.9897 - val_loss: 0.0345 - val_accuracy: 0.9886\n",
      "Epoch 94/100\n",
      "1804/1804 [==============================] - 2s 1ms/step - loss: 0.0309 - accuracy: 0.9895 - val_loss: 0.0345 - val_accuracy: 0.9884\n",
      "Epoch 95/100\n",
      "1804/1804 [==============================] - 2s 1ms/step - loss: 0.0309 - accuracy: 0.9899 - val_loss: 0.0344 - val_accuracy: 0.9885\n",
      "Epoch 96/100\n",
      "1804/1804 [==============================] - 2s 1ms/step - loss: 0.0308 - accuracy: 0.9899 - val_loss: 0.0342 - val_accuracy: 0.9887\n",
      "Epoch 97/100\n",
      "1804/1804 [==============================] - 2s 1ms/step - loss: 0.0308 - accuracy: 0.9898 - val_loss: 0.0348 - val_accuracy: 0.9883\n",
      "Epoch 98/100\n",
      "1804/1804 [==============================] - 2s 1ms/step - loss: 0.0308 - accuracy: 0.9900 - val_loss: 0.0339 - val_accuracy: 0.9888\n",
      "Epoch 99/100\n",
      "1804/1804 [==============================] - 2s 1ms/step - loss: 0.0305 - accuracy: 0.9902 - val_loss: 0.0345 - val_accuracy: 0.9885\n",
      "Epoch 100/100\n",
      "1804/1804 [==============================] - 2s 1ms/step - loss: 0.0305 - accuracy: 0.9901 - val_loss: 0.0338 - val_accuracy: 0.9890\n"
     ]
    }
   ],
   "source": [
    "import numpy as np\n",
    "\n",
    "train_labels = np.array(train_labels)\n",
    "val_labels = np.array(val_labels)\n",
    "\n",
    "\n",
    "EPOCHS = 100\n",
    "BATCH_SIZE = 32\n",
    "\n",
    "history = model.fit(\n",
    "    train_features,\n",
    "    train_labels,\n",
    "    validation_data=(val_features, val_labels),\n",
    "    epochs=EPOCHS,\n",
    "    batch_size=BATCH_SIZE\n",
    ")\n"
   ]
  },
  {
   "cell_type": "code",
   "execution_count": 31,
   "metadata": {},
   "outputs": [
    {
     "name": "stdout",
     "output_type": "stream",
     "text": [
      "451/451 [==============================] - 0s 340us/step\n"
     ]
    },
    {
     "data": {
      "image/png": "[encoded data removed]",
      "text/plain": [
       "<Figure size 640x480 with 1 Axes>"
      ]
     },
     "metadata": {},
     "output_type": "display_data"
    }
   ],
   "source": [
    "val_pred = model.predict(val_features)\n",
    "val_pred = (val_pred > 0.5).astype(int)\n",
    "\n",
    "import matplotlib.pyplot as plt\n",
    "from sklearn.metrics import roc_curve, auc, precision_recall_curve, confusion_matrix, accuracy_score\n",
    "\n",
    "fpr, tpr, _ = roc_curve(val_labels, val_pred)\n",
    "roc_auc = auc(fpr, tpr)\n",
    "\n",
    "plt.figure()\n",
    "plt.plot(fpr, tpr, color='darkorange', lw=2, label='ROC curve (area = %0.2f)' % roc_auc)\n",
    "plt.plot([0, 1], [0, 1], color='navy', lw=2, linestyle='--')\n",
    "plt.xlim([0.0, 1.0])\n",
    "plt.ylim([0.0, 1.05])\n",
    "plt.xlabel('False Positive Rate')\n",
    "plt.ylabel('True Positive Rate')\n",
    "plt.title('Receiver Operating Characteristic')\n",
    "plt.legend(loc=\"lower right\")\n",
    "plt.show()"
   ]
  },
  {
   "cell_type": "code",
   "execution_count": 32,
   "metadata": {},
   "outputs": [
    {
     "data": {
      "image/png": "[encoded data removed]",
      "text/plain": [
       "<Figure size 640x480 with 1 Axes>"
      ]
     },
     "metadata": {},
     "output_type": "display_data"
    }
   ],
   "source": [
    "precision, recall, _ = precision_recall_curve(val_labels, val_pred)\n",
    "prc_auc = auc(recall, precision)\n",
    "\n",
    "plt.figure()\n",
    "plt.plot(recall, precision, color='blue', lw=2, label='PRC curve (area = %0.2f)' % prc_auc)\n",
    "plt.xlabel('Recall')\n",
    "plt.ylabel('Precision')\n",
    "plt.title('Precision-Recall Curve')\n",
    "plt.legend(loc=\"lower left\")\n",
    "plt.show()"
   ]
  },
  {
   "cell_type": "code",
   "execution_count": 33,
   "metadata": {},
   "outputs": [
    {
     "data": {
      "image/png": "[encoded data removed]",
      "text/plain": [
       "<Figure size 800x600 with 2 Axes>"
      ]
     },
     "metadata": {},
     "output_type": "display_data"
    }
   ],
   "source": [
    "import itertools\n",
    "\n",
    "conf_matrix = confusion_matrix(val_labels, val_pred)\n",
    "plt.figure(figsize=(8, 6))\n",
    "plt.imshow(conf_matrix, interpolation='nearest', cmap=plt.cm.Blues)\n",
    "plt.title('Confusion Matrix')\n",
    "plt.colorbar()\n",
    "tick_marks = np.arange(2)\n",
    "plt.xticks(tick_marks, ['Fake', 'Real'], rotation=45)\n",
    "plt.yticks(tick_marks, ['Fake', 'Real'])\n",
    "\n",
    "thresh = conf_matrix.max() / 2.\n",
    "for i, j in itertools.product(range(conf_matrix.shape[0]), range(conf_matrix.shape[1])):\n",
    "    plt.text(j, i, format(conf_matrix[i, j], 'd'),\n",
    "             horizontalalignment=\"center\",\n",
    "             color=\"white\" if conf_matrix[i, j] > thresh else \"black\")\n",
    "\n",
    "plt.tight_layout()\n",
    "plt.ylabel('True label')\n",
    "plt.xlabel('Predicted label')\n",
    "plt.show()"
   ]
  },
  {
   "cell_type": "code",
   "execution_count": 36,
   "metadata": {},
   "outputs": [
    {
     "name": "stdout",
     "output_type": "stream",
     "text": [
      "Accuracy Score: 0.9889789977126222\n"
     ]
    }
   ],
   "source": [
    "accuracy = accuracy_score(val_labels, val_pred)\n",
    "print('Accuracy Score:', accuracy)"
   ]
  },
  {
   "cell_type": "code",
   "execution_count": 35,
   "metadata": {},
   "outputs": [],
   "source": [
    "model.save(\"transformer model.keras\")"
   ]
  },
  {
   "cell_type": "code",
   "execution_count": null,
   "metadata": {},
   "outputs": [],
   "source": []
  }
 ],
 "metadata": {
  "kernelspec": {
   "display_name": "conda_cpu",
   "language": "python",
   "name": "python3"
  },
  "language_info": {
   "codemirror_mode": {
    "name": "ipython",
    "version": 3
   },
   "file_extension": ".py",
   "mimetype": "text/x-python",
   "name": "python",
   "nbconvert_exporter": "python",
   "pygments_lexer": "ipython3",
   "version": "3.12.3"
  }
 },
 "nbformat": 4,
 "nbformat_minor": 2
}
