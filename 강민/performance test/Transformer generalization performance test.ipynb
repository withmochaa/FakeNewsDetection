{
 "cells": [
  {
   "cell_type": "code",
   "execution_count": 24,
   "metadata": {},
   "outputs": [],
   "source": [
    "import pandas as pd\n",
    "import tensorflow as tf\n",
    "from transformers import RobertaTokenizer, TFRobertaModel\n",
    "from sklearn.model_selection import train_test_split\n",
    "from sklearn.metrics import classification_report"
   ]
  },
  {
   "cell_type": "code",
   "execution_count": 25,
   "metadata": {},
   "outputs": [
    {
     "name": "stdout",
     "output_type": "stream",
     "text": [
      "28\n",
      "7546\n"
     ]
    },
    {
     "data": {
      "text/html": [
       "<div>\n",
       "<style scoped>\n",
       "    .dataframe tbody tr th:only-of-type {\n",
       "        vertical-align: middle;\n",
       "    }\n",
       "\n",
       "    .dataframe tbody tr th {\n",
       "        vertical-align: top;\n",
       "    }\n",
       "\n",
       "    .dataframe thead th {\n",
       "        text-align: right;\n",
       "    }\n",
       "</style>\n",
       "<table border=\"1\" class=\"dataframe\">\n",
       "  <thead>\n",
       "    <tr style=\"text-align: right;\">\n",
       "      <th></th>\n",
       "      <th>title</th>\n",
       "      <th>text</th>\n",
       "      <th>label</th>\n",
       "    </tr>\n",
       "  </thead>\n",
       "  <tbody>\n",
       "    <tr>\n",
       "      <th>0</th>\n",
       "      <td>You Can Smell Hillary’s FearDaniel Greenfield,...</td>\n",
       "      <td>Daniel Greenfield, a Shillman Journalism Fello...</td>\n",
       "      <td>FAKE</td>\n",
       "    </tr>\n",
       "    <tr>\n",
       "      <th>1</th>\n",
       "      <td>Watch The Exact Moment Paul Ryan Committed Pol...</td>\n",
       "      <td>Google Pinterest Digg Linkedin Reddit Stumbleu...</td>\n",
       "      <td>FAKE</td>\n",
       "    </tr>\n",
       "    <tr>\n",
       "      <th>2</th>\n",
       "      <td>Kerry to go to Paris in gesture of sympathyU.S...</td>\n",
       "      <td>U.S. Secretary of State John F. Kerry said Mon...</td>\n",
       "      <td>REAL</td>\n",
       "    </tr>\n",
       "    <tr>\n",
       "      <th>3</th>\n",
       "      <td>Bernie supporters on Twitter erupt in anger ag...</td>\n",
       "      <td>— Kaydee King (@KaydeeKing) November 9, 2016 T...</td>\n",
       "      <td>FAKE</td>\n",
       "    </tr>\n",
       "    <tr>\n",
       "      <th>4</th>\n",
       "      <td>The Battle of New York: Why This Primary Matte...</td>\n",
       "      <td>It's primary day in New York and front-runners...</td>\n",
       "      <td>REAL</td>\n",
       "    </tr>\n",
       "    <tr>\n",
       "      <th>...</th>\n",
       "      <td>...</td>\n",
       "      <td>...</td>\n",
       "      <td>...</td>\n",
       "    </tr>\n",
       "    <tr>\n",
       "      <th>6330</th>\n",
       "      <td>State Department says it can't find emails fro...</td>\n",
       "      <td>The State Department told the Republican Natio...</td>\n",
       "      <td>REAL</td>\n",
       "    </tr>\n",
       "    <tr>\n",
       "      <th>6331</th>\n",
       "      <td>The ‘P’ in PBS Should Stand for ‘Plutocratic’ ...</td>\n",
       "      <td>The ‘P’ in PBS Should Stand for ‘Plutocratic’ ...</td>\n",
       "      <td>FAKE</td>\n",
       "    </tr>\n",
       "    <tr>\n",
       "      <th>6332</th>\n",
       "      <td>Anti-Trump Protesters Are Tools of the Oligarc...</td>\n",
       "      <td>Anti-Trump Protesters Are Tools of the Oligar...</td>\n",
       "      <td>FAKE</td>\n",
       "    </tr>\n",
       "    <tr>\n",
       "      <th>6333</th>\n",
       "      <td>In Ethiopia, Obama seeks progress on peace, se...</td>\n",
       "      <td>ADDIS ABABA, Ethiopia —President Obama convene...</td>\n",
       "      <td>REAL</td>\n",
       "    </tr>\n",
       "    <tr>\n",
       "      <th>6334</th>\n",
       "      <td>Jeb Bush Is Suddenly Attacking Trump. Here's W...</td>\n",
       "      <td>Jeb Bush Is Suddenly Attacking Trump. Here's W...</td>\n",
       "      <td>REAL</td>\n",
       "    </tr>\n",
       "  </tbody>\n",
       "</table>\n",
       "<p>6335 rows × 3 columns</p>\n",
       "</div>"
      ],
      "text/plain": [
       "                                                  title  \\\n",
       "0     You Can Smell Hillary’s FearDaniel Greenfield,...   \n",
       "1     Watch The Exact Moment Paul Ryan Committed Pol...   \n",
       "2     Kerry to go to Paris in gesture of sympathyU.S...   \n",
       "3     Bernie supporters on Twitter erupt in anger ag...   \n",
       "4     The Battle of New York: Why This Primary Matte...   \n",
       "...                                                 ...   \n",
       "6330  State Department says it can't find emails fro...   \n",
       "6331  The ‘P’ in PBS Should Stand for ‘Plutocratic’ ...   \n",
       "6332  Anti-Trump Protesters Are Tools of the Oligarc...   \n",
       "6333  In Ethiopia, Obama seeks progress on peace, se...   \n",
       "6334  Jeb Bush Is Suddenly Attacking Trump. Here's W...   \n",
       "\n",
       "                                                   text label  \n",
       "0     Daniel Greenfield, a Shillman Journalism Fello...  FAKE  \n",
       "1     Google Pinterest Digg Linkedin Reddit Stumbleu...  FAKE  \n",
       "2     U.S. Secretary of State John F. Kerry said Mon...  REAL  \n",
       "3     — Kaydee King (@KaydeeKing) November 9, 2016 T...  FAKE  \n",
       "4     It's primary day in New York and front-runners...  REAL  \n",
       "...                                                 ...   ...  \n",
       "6330  The State Department told the Republican Natio...  REAL  \n",
       "6331  The ‘P’ in PBS Should Stand for ‘Plutocratic’ ...  FAKE  \n",
       "6332   Anti-Trump Protesters Are Tools of the Oligar...  FAKE  \n",
       "6333  ADDIS ABABA, Ethiopia —President Obama convene...  REAL  \n",
       "6334  Jeb Bush Is Suddenly Attacking Trump. Here's W...  REAL  \n",
       "\n",
       "[6335 rows x 3 columns]"
      ]
     },
     "execution_count": 25,
     "metadata": {},
     "output_type": "execute_result"
    }
   ],
   "source": [
    "data = pd.read_csv(\"/Users/withmocha/Desktop/DATA/BOAZ/미니 프로젝트 1/data/test data/news.csv\")\n",
    "data.drop(data.columns[0], axis=1, inplace=True)\n",
    "print(len(data.iloc[0,0]))\n",
    "data['title'] = data['title'] + data['text']\n",
    "print(len(data.iloc[0,0]))\n",
    "data"
   ]
  },
  {
   "cell_type": "code",
   "execution_count": 26,
   "metadata": {},
   "outputs": [],
   "source": [
    "for i in range(data.shape[0]):\n",
    "    if data.iloc[i,2]=='FAKE':\n",
    "        data.iloc[i,2]=0\n",
    "    else:\n",
    "        data.iloc[i,2]=1"
   ]
  },
  {
   "cell_type": "code",
   "execution_count": 27,
   "metadata": {},
   "outputs": [],
   "source": [
    "X = pd.DataFrame(data=data['title'])\n",
    "Y = pd.DataFrame(data=data['label'])"
   ]
  },
  {
   "cell_type": "code",
   "execution_count": 28,
   "metadata": {},
   "outputs": [],
   "source": [
    "texts = X['title'].tolist()\n",
    "labels = Y['label'].tolist()\n",
    "texts = [str(text) if pd.notna(text) else \"\" for text in texts]"
   ]
  },
  {
   "cell_type": "code",
   "execution_count": 29,
   "metadata": {},
   "outputs": [],
   "source": [
    "train_texts, val_texts, train_labels, val_labels = train_test_split(texts, labels, test_size=0.2, shuffle=True)"
   ]
  },
  {
   "cell_type": "code",
   "execution_count": 30,
   "metadata": {},
   "outputs": [],
   "source": [
    "tokenizer = RobertaTokenizer.from_pretrained('roberta-base')"
   ]
  },
  {
   "cell_type": "code",
   "execution_count": 31,
   "metadata": {},
   "outputs": [],
   "source": [
    "def encode_data(texts, tokenizer, max_length=128):\n",
    "    input_ids = []\n",
    "    attention_masks = []\n",
    "\n",
    "    for text in texts:\n",
    "        encoded = tokenizer.encode_plus(\n",
    "            text,\n",
    "            max_length=max_length,\n",
    "            truncation=True,\n",
    "            padding='max_length',\n",
    "            add_special_tokens=True,\n",
    "            return_attention_mask=True,\n",
    "            return_tensors='tf'\n",
    "        )\n",
    "        input_ids.append(encoded['input_ids'])\n",
    "        attention_masks.append(encoded['attention_mask'])\n",
    "\n",
    "    return tf.concat(input_ids, axis=0), tf.concat(attention_masks, axis=0)"
   ]
  },
  {
   "cell_type": "code",
   "execution_count": 32,
   "metadata": {},
   "outputs": [],
   "source": [
    "train_input_ids, train_attention_masks = encode_data(train_texts, tokenizer)\n",
    "val_input_ids, val_attention_masks = encode_data(val_texts, tokenizer)"
   ]
  },
  {
   "cell_type": "code",
   "execution_count": 33,
   "metadata": {},
   "outputs": [
    {
     "name": "stderr",
     "output_type": "stream",
     "text": [
      "Some weights of the PyTorch model were not used when initializing the TF 2.0 model TFRobertaModel: ['lm_head.dense.bias', 'lm_head.layer_norm.weight', 'lm_head.bias', 'lm_head.dense.weight', 'lm_head.layer_norm.bias', 'roberta.embeddings.position_ids']\n",
      "- This IS expected if you are initializing TFRobertaModel from a PyTorch model trained on another task or with another architecture (e.g. initializing a TFBertForSequenceClassification model from a BertForPreTraining model).\n",
      "- This IS NOT expected if you are initializing TFRobertaModel from a PyTorch model that you expect to be exactly identical (e.g. initializing a TFBertForSequenceClassification model from a BertForSequenceClassification model).\n",
      "Some weights or buffers of the TF 2.0 model TFRobertaModel were not initialized from the PyTorch model and are newly initialized: ['roberta.pooler.dense.weight', 'roberta.pooler.dense.bias']\n",
      "You should probably TRAIN this model on a down-stream task to be able to use it for predictions and inference.\n"
     ]
    }
   ],
   "source": [
    "roberta_model = TFRobertaModel.from_pretrained('roberta-base')"
   ]
  },
  {
   "cell_type": "code",
   "execution_count": 34,
   "metadata": {},
   "outputs": [],
   "source": [
    "def create_transformer_input(input_ids, attention_masks, batch_size=32):\n",
    "    def gen():\n",
    "        for i in range(0, len(input_ids), batch_size):\n",
    "            yield input_ids[i:i + batch_size], attention_masks[i:i + batch_size]\n",
    "\n",
    "    dataset = tf.data.Dataset.from_generator(\n",
    "        gen,\n",
    "        output_signature=(tf.TensorSpec(shape=(None, input_ids.shape[1]), dtype=tf.int32),\n",
    "                          tf.TensorSpec(shape=(None, attention_masks.shape[1]), dtype=tf.int32))\n",
    "    )\n",
    "\n",
    "    features = []\n",
    "    for batch_input_ids, batch_attention_masks in dataset:\n",
    "        outputs = roberta_model(batch_input_ids, attention_mask=batch_attention_masks)\n",
    "        features.append(outputs.last_hidden_state[:, 0, :])\n",
    "\n",
    "    return tf.concat(features, axis=0)"
   ]
  },
  {
   "cell_type": "code",
   "execution_count": 35,
   "metadata": {},
   "outputs": [
    {
     "name": "stderr",
     "output_type": "stream",
     "text": [
      "2024-08-23 15:17:42.387821: I tensorflow/core/framework/local_rendezvous.cc:404] Local rendezvous is aborting with status: OUT_OF_RANGE: End of sequence\n"
     ]
    }
   ],
   "source": [
    "train_features = create_transformer_input(train_input_ids, train_attention_masks)\n",
    "val_features = create_transformer_input(val_input_ids, val_attention_masks)"
   ]
  },
  {
   "cell_type": "code",
   "execution_count": 36,
   "metadata": {},
   "outputs": [],
   "source": [
    "import numpy as np\n",
    "\n",
    "train_labels = np.array(train_labels)\n",
    "val_labels = np.array(val_labels)"
   ]
  },
  {
   "cell_type": "code",
   "execution_count": 37,
   "metadata": {},
   "outputs": [
    {
     "name": "stderr",
     "output_type": "stream",
     "text": [
      "WARNING:absl:At this time, the v2.11+ optimizer `tf.keras.optimizers.Adam` runs slowly on M1/M2 Macs, please use the legacy TF-Keras optimizer instead, located at `tf.keras.optimizers.legacy.Adam`.\n"
     ]
    },
    {
     "name": "stdout",
     "output_type": "stream",
     "text": [
      "Model: \"model_2\"\n",
      "_________________________________________________________________\n",
      " Layer (type)                Output Shape              Param #   \n",
      "=================================================================\n",
      " input_3 (InputLayer)        [(None, 768)]             0         \n",
      "                                                                 \n",
      " dense_4 (Dense)             (None, 256)               196864    \n",
      "                                                                 \n",
      " dropout_39 (Dropout)        (None, 256)               0         \n",
      "                                                                 \n",
      " dense_5 (Dense)             (None, 1)                 257       \n",
      "                                                                 \n",
      "=================================================================\n",
      "Total params: 197121 (770.00 KB)\n",
      "Trainable params: 197121 (770.00 KB)\n",
      "Non-trainable params: 0 (0.00 Byte)\n",
      "_________________________________________________________________\n"
     ]
    }
   ],
   "source": [
    "import tensorflow as tf \n",
    "from keras.models import load_model\n",
    "\n",
    "transformer_model_path='/Users/withmocha/Desktop/DATA/BOAZ/미니 프로젝트 1/model/transformer/transformer model(98).keras'\n",
    "transformer_model = tf.keras.models.load_model(transformer_model_path)\n",
    "transformer_model.summary()"
   ]
  },
  {
   "cell_type": "code",
   "execution_count": 38,
   "metadata": {},
   "outputs": [
    {
     "name": "stdout",
     "output_type": "stream",
     "text": [
      "<dtype: 'float32'>\n",
      "int64\n"
     ]
    }
   ],
   "source": [
    "print(train_features.dtype)\n",
    "print(train_labels.dtype)"
   ]
  },
  {
   "cell_type": "code",
   "execution_count": 39,
   "metadata": {},
   "outputs": [
    {
     "name": "stdout",
     "output_type": "stream",
     "text": [
      "Epoch 1/100\n",
      "159/159 [==============================] - 0s 2ms/step - loss: 6.4856 - accuracy: 0.0594 - val_loss: 5.4033 - val_accuracy: 0.0718\n",
      "Epoch 2/100\n",
      "159/159 [==============================] - 0s 1ms/step - loss: 4.7390 - accuracy: 0.1020 - val_loss: 4.1678 - val_accuracy: 0.1326\n",
      "Epoch 3/100\n",
      "159/159 [==============================] - 0s 1ms/step - loss: 3.7722 - accuracy: 0.1551 - val_loss: 3.3712 - val_accuracy: 0.1721\n",
      "Epoch 4/100\n",
      "159/159 [==============================] - 0s 1ms/step - loss: 3.1107 - accuracy: 0.2153 - val_loss: 2.8065 - val_accuracy: 0.2344\n",
      "Epoch 5/100\n",
      "159/159 [==============================] - 0s 1ms/step - loss: 2.6527 - accuracy: 0.2678 - val_loss: 2.3854 - val_accuracy: 0.3047\n",
      "Epoch 6/100\n",
      "159/159 [==============================] - 0s 1ms/step - loss: 2.3170 - accuracy: 0.3273 - val_loss: 2.0601 - val_accuracy: 0.3607\n",
      "Epoch 7/100\n",
      "159/159 [==============================] - 0s 1ms/step - loss: 2.0352 - accuracy: 0.3822 - val_loss: 1.8057 - val_accuracy: 0.4073\n",
      "Epoch 8/100\n",
      "159/159 [==============================] - 0s 1ms/step - loss: 1.7884 - accuracy: 0.4337 - val_loss: 1.6033 - val_accuracy: 0.4562\n",
      "Epoch 9/100\n",
      "159/159 [==============================] - 0s 1ms/step - loss: 1.6224 - accuracy: 0.4678 - val_loss: 1.4346 - val_accuracy: 0.5043\n",
      "Epoch 10/100\n",
      "159/159 [==============================] - 0s 1ms/step - loss: 1.4501 - accuracy: 0.5116 - val_loss: 1.2939 - val_accuracy: 0.5454\n",
      "Epoch 11/100\n",
      "159/159 [==============================] - 0s 1ms/step - loss: 1.3254 - accuracy: 0.5527 - val_loss: 1.1757 - val_accuracy: 0.5793\n",
      "Epoch 12/100\n",
      "159/159 [==============================] - 0s 1ms/step - loss: 1.1975 - accuracy: 0.5738 - val_loss: 1.0740 - val_accuracy: 0.5998\n",
      "Epoch 13/100\n",
      "159/159 [==============================] - 0s 1ms/step - loss: 1.1233 - accuracy: 0.6008 - val_loss: 0.9840 - val_accuracy: 0.6251\n",
      "Epoch 14/100\n",
      "159/159 [==============================] - 0s 1ms/step - loss: 1.0029 - accuracy: 0.6391 - val_loss: 0.9075 - val_accuracy: 0.6456\n",
      "Epoch 15/100\n",
      "159/159 [==============================] - 0s 1ms/step - loss: 0.9511 - accuracy: 0.6515 - val_loss: 0.8417 - val_accuracy: 0.6622\n",
      "Epoch 16/100\n",
      "159/159 [==============================] - 0s 1ms/step - loss: 0.8759 - accuracy: 0.6766 - val_loss: 0.7801 - val_accuracy: 0.6835\n",
      "Epoch 17/100\n",
      "159/159 [==============================] - 0s 1ms/step - loss: 0.8264 - accuracy: 0.6977 - val_loss: 0.7271 - val_accuracy: 0.7040\n",
      "Epoch 18/100\n",
      "159/159 [==============================] - 0s 1ms/step - loss: 0.7657 - accuracy: 0.7133 - val_loss: 0.6813 - val_accuracy: 0.7238\n",
      "Epoch 19/100\n",
      "159/159 [==============================] - 0s 1ms/step - loss: 0.7204 - accuracy: 0.7289 - val_loss: 0.6380 - val_accuracy: 0.7427\n",
      "Epoch 20/100\n",
      "159/159 [==============================] - 0s 1ms/step - loss: 0.6787 - accuracy: 0.7388 - val_loss: 0.6008 - val_accuracy: 0.7577\n",
      "Epoch 21/100\n",
      "159/159 [==============================] - 0s 1ms/step - loss: 0.6376 - accuracy: 0.7571 - val_loss: 0.5673 - val_accuracy: 0.7735\n",
      "Epoch 22/100\n",
      "159/159 [==============================] - 0s 1ms/step - loss: 0.5984 - accuracy: 0.7719 - val_loss: 0.5368 - val_accuracy: 0.7861\n",
      "Epoch 23/100\n",
      "159/159 [==============================] - 0s 1ms/step - loss: 0.5536 - accuracy: 0.7897 - val_loss: 0.5104 - val_accuracy: 0.7987\n",
      "Epoch 24/100\n",
      "159/159 [==============================] - 0s 1ms/step - loss: 0.5440 - accuracy: 0.7885 - val_loss: 0.4870 - val_accuracy: 0.8114\n",
      "Epoch 25/100\n",
      "159/159 [==============================] - 0s 1ms/step - loss: 0.5125 - accuracy: 0.8015 - val_loss: 0.4644 - val_accuracy: 0.8177\n",
      "Epoch 26/100\n",
      "159/159 [==============================] - 0s 1ms/step - loss: 0.4758 - accuracy: 0.8181 - val_loss: 0.4431 - val_accuracy: 0.8240\n",
      "Epoch 27/100\n",
      "159/159 [==============================] - 0s 1ms/step - loss: 0.4627 - accuracy: 0.8206 - val_loss: 0.4243 - val_accuracy: 0.8295\n",
      "Epoch 28/100\n",
      "159/159 [==============================] - 0s 1ms/step - loss: 0.4454 - accuracy: 0.8285 - val_loss: 0.4073 - val_accuracy: 0.8445\n",
      "Epoch 29/100\n",
      "159/159 [==============================] - 0s 1ms/step - loss: 0.4174 - accuracy: 0.8358 - val_loss: 0.3920 - val_accuracy: 0.8477\n",
      "Epoch 30/100\n",
      "159/159 [==============================] - 0s 1ms/step - loss: 0.4075 - accuracy: 0.8441 - val_loss: 0.3773 - val_accuracy: 0.8532\n",
      "Epoch 31/100\n",
      "159/159 [==============================] - 0s 1ms/step - loss: 0.3935 - accuracy: 0.8481 - val_loss: 0.3641 - val_accuracy: 0.8595\n",
      "Epoch 32/100\n",
      "159/159 [==============================] - 0s 1ms/step - loss: 0.3693 - accuracy: 0.8569 - val_loss: 0.3514 - val_accuracy: 0.8619\n",
      "Epoch 33/100\n",
      "159/159 [==============================] - 0s 1ms/step - loss: 0.3512 - accuracy: 0.8607 - val_loss: 0.3407 - val_accuracy: 0.8674\n",
      "Epoch 34/100\n",
      "159/159 [==============================] - 0s 1ms/step - loss: 0.3375 - accuracy: 0.8749 - val_loss: 0.3292 - val_accuracy: 0.8753\n",
      "Epoch 35/100\n",
      "159/159 [==============================] - 0s 1ms/step - loss: 0.3293 - accuracy: 0.8775 - val_loss: 0.3199 - val_accuracy: 0.8792\n",
      "Epoch 36/100\n",
      "159/159 [==============================] - 0s 1ms/step - loss: 0.3157 - accuracy: 0.8767 - val_loss: 0.3112 - val_accuracy: 0.8816\n",
      "Epoch 37/100\n",
      "159/159 [==============================] - 0s 1ms/step - loss: 0.3028 - accuracy: 0.8830 - val_loss: 0.3012 - val_accuracy: 0.8856\n",
      "Epoch 38/100\n",
      "159/159 [==============================] - 0s 1ms/step - loss: 0.2989 - accuracy: 0.8850 - val_loss: 0.2926 - val_accuracy: 0.8911\n",
      "Epoch 39/100\n",
      "159/159 [==============================] - 0s 1ms/step - loss: 0.2879 - accuracy: 0.8925 - val_loss: 0.2849 - val_accuracy: 0.8927\n",
      "Epoch 40/100\n",
      "159/159 [==============================] - 0s 1ms/step - loss: 0.2814 - accuracy: 0.8923 - val_loss: 0.2777 - val_accuracy: 0.8950\n",
      "Epoch 41/100\n",
      "159/159 [==============================] - 0s 1ms/step - loss: 0.2658 - accuracy: 0.8958 - val_loss: 0.2710 - val_accuracy: 0.8982\n",
      "Epoch 42/100\n",
      "159/159 [==============================] - 0s 1ms/step - loss: 0.2633 - accuracy: 0.8988 - val_loss: 0.2664 - val_accuracy: 0.9013\n",
      "Epoch 43/100\n",
      "159/159 [==============================] - 0s 1ms/step - loss: 0.2522 - accuracy: 0.9061 - val_loss: 0.2586 - val_accuracy: 0.9045\n",
      "Epoch 44/100\n",
      "159/159 [==============================] - 0s 1ms/step - loss: 0.2487 - accuracy: 0.9073 - val_loss: 0.2526 - val_accuracy: 0.9069\n",
      "Epoch 45/100\n",
      "159/159 [==============================] - 0s 1ms/step - loss: 0.2425 - accuracy: 0.9071 - val_loss: 0.2472 - val_accuracy: 0.9092\n",
      "Epoch 46/100\n",
      "159/159 [==============================] - 0s 1ms/step - loss: 0.2398 - accuracy: 0.9094 - val_loss: 0.2422 - val_accuracy: 0.9116\n",
      "Epoch 47/100\n",
      "159/159 [==============================] - 0s 1ms/step - loss: 0.2264 - accuracy: 0.9155 - val_loss: 0.2416 - val_accuracy: 0.9061\n",
      "Epoch 48/100\n",
      "159/159 [==============================] - 0s 1ms/step - loss: 0.2235 - accuracy: 0.9157 - val_loss: 0.2330 - val_accuracy: 0.9124\n",
      "Epoch 49/100\n",
      "159/159 [==============================] - 0s 1ms/step - loss: 0.2183 - accuracy: 0.9167 - val_loss: 0.2307 - val_accuracy: 0.9124\n",
      "Epoch 50/100\n",
      "159/159 [==============================] - 0s 1ms/step - loss: 0.2182 - accuracy: 0.9181 - val_loss: 0.2235 - val_accuracy: 0.9163\n",
      "Epoch 51/100\n",
      "159/159 [==============================] - 0s 1ms/step - loss: 0.2103 - accuracy: 0.9197 - val_loss: 0.2215 - val_accuracy: 0.9163\n",
      "Epoch 52/100\n",
      "159/159 [==============================] - 0s 1ms/step - loss: 0.2053 - accuracy: 0.9230 - val_loss: 0.2158 - val_accuracy: 0.9171\n",
      "Epoch 53/100\n",
      "159/159 [==============================] - 0s 1ms/step - loss: 0.2048 - accuracy: 0.9201 - val_loss: 0.2116 - val_accuracy: 0.9203\n",
      "Epoch 54/100\n",
      "159/159 [==============================] - 0s 1ms/step - loss: 0.1973 - accuracy: 0.9260 - val_loss: 0.2086 - val_accuracy: 0.9203\n",
      "Epoch 55/100\n",
      "159/159 [==============================] - 0s 1ms/step - loss: 0.1908 - accuracy: 0.9284 - val_loss: 0.2071 - val_accuracy: 0.9203\n",
      "Epoch 56/100\n",
      "159/159 [==============================] - 0s 1ms/step - loss: 0.1930 - accuracy: 0.9262 - val_loss: 0.2014 - val_accuracy: 0.9227\n",
      "Epoch 57/100\n",
      "159/159 [==============================] - 0s 1ms/step - loss: 0.1863 - accuracy: 0.9305 - val_loss: 0.1995 - val_accuracy: 0.9258\n",
      "Epoch 58/100\n",
      "159/159 [==============================] - 0s 1ms/step - loss: 0.1792 - accuracy: 0.9327 - val_loss: 0.1957 - val_accuracy: 0.9274\n",
      "Epoch 59/100\n",
      "159/159 [==============================] - 0s 1ms/step - loss: 0.1805 - accuracy: 0.9353 - val_loss: 0.1939 - val_accuracy: 0.9266\n",
      "Epoch 60/100\n",
      "159/159 [==============================] - 0s 999us/step - loss: 0.1798 - accuracy: 0.9343 - val_loss: 0.1900 - val_accuracy: 0.9290\n",
      "Epoch 61/100\n",
      "159/159 [==============================] - 0s 1ms/step - loss: 0.1716 - accuracy: 0.9371 - val_loss: 0.1909 - val_accuracy: 0.9242\n",
      "Epoch 62/100\n",
      "159/159 [==============================] - 0s 1ms/step - loss: 0.1692 - accuracy: 0.9386 - val_loss: 0.1848 - val_accuracy: 0.9313\n",
      "Epoch 63/100\n",
      "159/159 [==============================] - 0s 1ms/step - loss: 0.1641 - accuracy: 0.9392 - val_loss: 0.1838 - val_accuracy: 0.9290\n",
      "Epoch 64/100\n",
      "159/159 [==============================] - 0s 1ms/step - loss: 0.1624 - accuracy: 0.9404 - val_loss: 0.1820 - val_accuracy: 0.9290\n",
      "Epoch 65/100\n",
      "159/159 [==============================] - 0s 1ms/step - loss: 0.1647 - accuracy: 0.9404 - val_loss: 0.1794 - val_accuracy: 0.9282\n",
      "Epoch 66/100\n",
      "159/159 [==============================] - 0s 1ms/step - loss: 0.1601 - accuracy: 0.9432 - val_loss: 0.1759 - val_accuracy: 0.9337\n",
      "Epoch 67/100\n",
      "159/159 [==============================] - 0s 1ms/step - loss: 0.1546 - accuracy: 0.9424 - val_loss: 0.1731 - val_accuracy: 0.9353\n",
      "Epoch 68/100\n",
      "159/159 [==============================] - 0s 1ms/step - loss: 0.1543 - accuracy: 0.9424 - val_loss: 0.1717 - val_accuracy: 0.9345\n",
      "Epoch 69/100\n",
      "159/159 [==============================] - 0s 1ms/step - loss: 0.1496 - accuracy: 0.9455 - val_loss: 0.1736 - val_accuracy: 0.9329\n",
      "Epoch 70/100\n",
      "159/159 [==============================] - 0s 1ms/step - loss: 0.1502 - accuracy: 0.9457 - val_loss: 0.1686 - val_accuracy: 0.9353\n",
      "Epoch 71/100\n",
      "159/159 [==============================] - 0s 1ms/step - loss: 0.1474 - accuracy: 0.9477 - val_loss: 0.1664 - val_accuracy: 0.9369\n",
      "Epoch 72/100\n",
      "159/159 [==============================] - 0s 1ms/step - loss: 0.1430 - accuracy: 0.9469 - val_loss: 0.1636 - val_accuracy: 0.9384\n",
      "Epoch 73/100\n",
      "159/159 [==============================] - 0s 1ms/step - loss: 0.1442 - accuracy: 0.9467 - val_loss: 0.1630 - val_accuracy: 0.9376\n",
      "Epoch 74/100\n",
      "159/159 [==============================] - 0s 1ms/step - loss: 0.1398 - accuracy: 0.9487 - val_loss: 0.1612 - val_accuracy: 0.9384\n",
      "Epoch 75/100\n",
      "159/159 [==============================] - 0s 1ms/step - loss: 0.1386 - accuracy: 0.9479 - val_loss: 0.1592 - val_accuracy: 0.9392\n",
      "Epoch 76/100\n",
      "159/159 [==============================] - 0s 1ms/step - loss: 0.1360 - accuracy: 0.9497 - val_loss: 0.1578 - val_accuracy: 0.9384\n",
      "Epoch 77/100\n",
      "159/159 [==============================] - 0s 1ms/step - loss: 0.1370 - accuracy: 0.9505 - val_loss: 0.1555 - val_accuracy: 0.9392\n",
      "Epoch 78/100\n",
      "159/159 [==============================] - 0s 1ms/step - loss: 0.1329 - accuracy: 0.9521 - val_loss: 0.1531 - val_accuracy: 0.9440\n",
      "Epoch 79/100\n",
      "159/159 [==============================] - 0s 1ms/step - loss: 0.1308 - accuracy: 0.9511 - val_loss: 0.1527 - val_accuracy: 0.9400\n",
      "Epoch 80/100\n",
      "159/159 [==============================] - 0s 1ms/step - loss: 0.1300 - accuracy: 0.9530 - val_loss: 0.1511 - val_accuracy: 0.9416\n",
      "Epoch 81/100\n",
      "159/159 [==============================] - 0s 1ms/step - loss: 0.1287 - accuracy: 0.9550 - val_loss: 0.1532 - val_accuracy: 0.9432\n",
      "Epoch 82/100\n",
      "159/159 [==============================] - 0s 1ms/step - loss: 0.1278 - accuracy: 0.9522 - val_loss: 0.1504 - val_accuracy: 0.9432\n",
      "Epoch 83/100\n",
      "159/159 [==============================] - 0s 1ms/step - loss: 0.1243 - accuracy: 0.9538 - val_loss: 0.1479 - val_accuracy: 0.9424\n",
      "Epoch 84/100\n",
      "159/159 [==============================] - 0s 994us/step - loss: 0.1243 - accuracy: 0.9562 - val_loss: 0.1454 - val_accuracy: 0.9448\n",
      "Epoch 85/100\n",
      "159/159 [==============================] - 0s 1ms/step - loss: 0.1251 - accuracy: 0.9538 - val_loss: 0.1448 - val_accuracy: 0.9455\n",
      "Epoch 86/100\n",
      "159/159 [==============================] - 0s 1ms/step - loss: 0.1221 - accuracy: 0.9568 - val_loss: 0.1432 - val_accuracy: 0.9455\n",
      "Epoch 87/100\n",
      "159/159 [==============================] - 0s 1ms/step - loss: 0.1203 - accuracy: 0.9562 - val_loss: 0.1431 - val_accuracy: 0.9487\n",
      "Epoch 88/100\n",
      "159/159 [==============================] - 0s 1ms/step - loss: 0.1193 - accuracy: 0.9560 - val_loss: 0.1408 - val_accuracy: 0.9471\n",
      "Epoch 89/100\n",
      "159/159 [==============================] - 0s 996us/step - loss: 0.1181 - accuracy: 0.9566 - val_loss: 0.1410 - val_accuracy: 0.9495\n",
      "Epoch 90/100\n",
      "159/159 [==============================] - 0s 1ms/step - loss: 0.1169 - accuracy: 0.9576 - val_loss: 0.1383 - val_accuracy: 0.9495\n",
      "Epoch 91/100\n",
      "159/159 [==============================] - 0s 1ms/step - loss: 0.1145 - accuracy: 0.9590 - val_loss: 0.1369 - val_accuracy: 0.9471\n",
      "Epoch 92/100\n",
      "159/159 [==============================] - 0s 1ms/step - loss: 0.1152 - accuracy: 0.9588 - val_loss: 0.1365 - val_accuracy: 0.9503\n",
      "Epoch 93/100\n",
      "159/159 [==============================] - 0s 1ms/step - loss: 0.1129 - accuracy: 0.9578 - val_loss: 0.1368 - val_accuracy: 0.9503\n",
      "Epoch 94/100\n",
      "159/159 [==============================] - 0s 1ms/step - loss: 0.1131 - accuracy: 0.9578 - val_loss: 0.1376 - val_accuracy: 0.9487\n",
      "Epoch 95/100\n",
      "159/159 [==============================] - 0s 1ms/step - loss: 0.1119 - accuracy: 0.9584 - val_loss: 0.1333 - val_accuracy: 0.9511\n",
      "Epoch 96/100\n",
      "159/159 [==============================] - 0s 1ms/step - loss: 0.1100 - accuracy: 0.9584 - val_loss: 0.1324 - val_accuracy: 0.9534\n",
      "Epoch 97/100\n",
      "159/159 [==============================] - 0s 1ms/step - loss: 0.1105 - accuracy: 0.9596 - val_loss: 0.1326 - val_accuracy: 0.9511\n",
      "Epoch 98/100\n",
      "159/159 [==============================] - 0s 1ms/step - loss: 0.1063 - accuracy: 0.9605 - val_loss: 0.1304 - val_accuracy: 0.9534\n",
      "Epoch 99/100\n",
      "159/159 [==============================] - 0s 1ms/step - loss: 0.1085 - accuracy: 0.9594 - val_loss: 0.1301 - val_accuracy: 0.9558\n",
      "Epoch 100/100\n",
      "159/159 [==============================] - 0s 1ms/step - loss: 0.1092 - accuracy: 0.9613 - val_loss: 0.1306 - val_accuracy: 0.9526\n"
     ]
    }
   ],
   "source": [
    "EPOCHS = 100\n",
    "BATCH_SIZE = 32\n",
    "\n",
    "\n",
    "history = transformer_model.fit(\n",
    "    train_features,\n",
    "    train_labels,\n",
    "    validation_data=(val_features, val_labels),\n",
    "    epochs=EPOCHS,\n",
    "    batch_size=BATCH_SIZE\n",
    ")"
   ]
  },
  {
   "cell_type": "code",
   "execution_count": 45,
   "metadata": {},
   "outputs": [
    {
     "name": "stdout",
     "output_type": "stream",
     "text": [
      "40/40 [==============================] - 0s 548us/step\n"
     ]
    },
    {
     "data": {
      "image/png": "[encoded data removed]",
      "text/plain": [
       "<Figure size 640x480 with 1 Axes>"
      ]
     },
     "metadata": {},
     "output_type": "display_data"
    }
   ],
   "source": [
    "import itertools\n",
    "import matplotlib.pyplot as plt\n",
    "from sklearn.metrics import roc_curve, auc, precision_recall_curve, confusion_matrix, accuracy_score\n",
    "\n",
    "val_pred = transformer_model.predict(val_features)\n",
    "val_pred = (val_pred > 0.5).astype(int)\n",
    "\n",
    "import matplotlib.pyplot as plt\n",
    "from sklearn.metrics import roc_curve, auc, precision_recall_curve, confusion_matrix, accuracy_score\n",
    "\n",
    "fpr, tpr, _ = roc_curve(val_labels, val_pred)\n",
    "roc_auc = auc(fpr, tpr)\n",
    "\n",
    "plt.figure()\n",
    "plt.plot(fpr, tpr, color='darkorange', lw=2, label='ROC curve (area = %0.2f)' % roc_auc)\n",
    "plt.plot([0, 1], [0, 1], color='navy', lw=2, linestyle='--')\n",
    "plt.xlim([0.0, 1.0])\n",
    "plt.ylim([0.0, 1.05])\n",
    "plt.xlabel('False Positive Rate')\n",
    "plt.ylabel('True Positive Rate')\n",
    "plt.title('Receiver Operating Characteristic')\n",
    "plt.legend(loc=\"lower right\")\n",
    "plt.show()"
   ]
  },
  {
   "cell_type": "code",
   "execution_count": 46,
   "metadata": {},
   "outputs": [
    {
     "data": {
      "image/png": "[encoded data removed]",
      "text/plain": [
       "<Figure size 640x480 with 1 Axes>"
      ]
     },
     "metadata": {},
     "output_type": "display_data"
    }
   ],
   "source": [
    "precision, recall, _ = precision_recall_curve(val_labels, val_pred)\n",
    "prc_auc = auc(recall, precision)\n",
    "\n",
    "plt.figure()\n",
    "plt.plot(recall, precision, color='blue', lw=2, label='PRC curve (area = %0.2f)' % prc_auc)\n",
    "plt.xlabel('Recall')\n",
    "plt.ylabel('Precision')\n",
    "plt.title('Precision-Recall Curve')\n",
    "plt.legend(loc=\"lower left\")\n",
    "plt.show()"
   ]
  },
  {
   "cell_type": "code",
   "execution_count": 47,
   "metadata": {},
   "outputs": [
    {
     "data": {
      "image/png": "[encoded data removed]",
      "text/plain": [
       "<Figure size 800x600 with 2 Axes>"
      ]
     },
     "metadata": {},
     "output_type": "display_data"
    }
   ],
   "source": [
    "import itertools\n",
    "\n",
    "conf_matrix = confusion_matrix(val_labels, val_pred)\n",
    "plt.figure(figsize=(8, 6))\n",
    "plt.imshow(conf_matrix, interpolation='nearest', cmap=plt.cm.Blues)\n",
    "plt.title('Confusion Matrix')\n",
    "plt.colorbar()\n",
    "tick_marks = np.arange(2)\n",
    "plt.xticks(tick_marks, ['Fake', 'Real'], rotation=45)\n",
    "plt.yticks(tick_marks, ['Fake', 'Real'])\n",
    "\n",
    "thresh = conf_matrix.max() / 2.\n",
    "for i, j in itertools.product(range(conf_matrix.shape[0]), range(conf_matrix.shape[1])):\n",
    "    plt.text(j, i, format(conf_matrix[i, j], 'd'),\n",
    "             horizontalalignment=\"center\",\n",
    "             color=\"white\" if conf_matrix[i, j] > thresh else \"black\")\n",
    "\n",
    "plt.tight_layout()\n",
    "plt.ylabel('True label')\n",
    "plt.xlabel('Predicted label')\n",
    "plt.show()"
   ]
  },
  {
   "cell_type": "code",
   "execution_count": 48,
   "metadata": {},
   "outputs": [
    {
     "name": "stdout",
     "output_type": "stream",
     "text": [
      "Accuracy Score: 0.9526440410418311\n"
     ]
    }
   ],
   "source": [
    "accuracy = accuracy_score(val_labels, val_pred)\n",
    "print('Accuracy Score:', accuracy)"
   ]
  }
 ],
 "metadata": {
  "kernelspec": {
   "display_name": "conda_cpu",
   "language": "python",
   "name": "python3"
  },
  "language_info": {
   "codemirror_mode": {
    "name": "ipython",
    "version": 3
   },
   "file_extension": ".py",
   "mimetype": "text/x-python",
   "name": "python",
   "nbconvert_exporter": "python",
   "pygments_lexer": "ipython3",
   "version": "3.12.3"
  }
 },
 "nbformat": 4,
 "nbformat_minor": 2
}
